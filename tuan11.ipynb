{
  "cells": [
    {
      "cell_type": "markdown",
      "metadata": {
        "id": "view-in-github",
        "colab_type": "text"
      },
      "source": [
        "<a href=\"https://colab.research.google.com/github/LeNhatTan19104039/tri-tue-nhan-tao-chapter2/blob/main/tuan11.ipynb\" target=\"_parent\"><img src=\"https://colab.research.google.com/assets/colab-badge.svg\" alt=\"Open In Colab\"/></a>"
      ]
    },
    {
      "cell_type": "code",
      "execution_count": null,
      "metadata": {
        "id": "zIUkhkV5GHAF"
      },
      "outputs": [],
      "source": [
        "from keras.datasets import mnist\n"
      ]
    },
    {
      "cell_type": "code",
      "execution_count": null,
      "metadata": {
        "colab": {
          "base_uri": "https://localhost:8080/"
        },
        "id": "s5rc0f7BGW8m",
        "outputId": "25c0d0a2-df07-47ba-eeb8-a8dccf2013bc"
      },
      "outputs": [
        {
          "output_type": "stream",
          "name": "stdout",
          "text": [
            "Downloading data from https://storage.googleapis.com/tensorflow/tf-keras-datasets/mnist.npz\n",
            "11490434/11490434 [==============================] - 0s 0us/step\n"
          ]
        },
        {
          "output_type": "execute_result",
          "data": {
            "text/plain": [
              "(60000, 28, 28)"
            ]
          },
          "metadata": {},
          "execution_count": 2
        }
      ],
      "source": [
        "(X_train,y_train),(X_test,y_test)=mnist.load_data()\n",
        "X_train.shape"
      ]
    },
    {
      "cell_type": "code",
      "execution_count": null,
      "metadata": {
        "colab": {
          "base_uri": "https://localhost:8080/"
        },
        "id": "loUK9vKpG0dW",
        "outputId": "0e391572-458b-4d41-8dab-cc38baee0104"
      },
      "outputs": [
        {
          "data": {
            "text/plain": [
              "(60000,)"
            ]
          },
          "execution_count": 7,
          "metadata": {},
          "output_type": "execute_result"
        }
      ],
      "source": [
        "y_train.shape"
      ]
    },
    {
      "cell_type": "code",
      "execution_count": null,
      "metadata": {
        "colab": {
          "base_uri": "https://localhost:8080/"
        },
        "id": "iC2ecGorG3Wh",
        "outputId": "60b82786-ea46-46a0-ab9e-14182331abdb"
      },
      "outputs": [
        {
          "data": {
            "text/plain": [
              "(10000, 28, 28)"
            ]
          },
          "execution_count": 8,
          "metadata": {},
          "output_type": "execute_result"
        }
      ],
      "source": [
        "X_test.shape"
      ]
    },
    {
      "cell_type": "code",
      "execution_count": null,
      "metadata": {
        "colab": {
          "base_uri": "https://localhost:8080/"
        },
        "id": "z9lcoQWqG5_E",
        "outputId": "b519ec3f-b3cd-4998-c985-a9169a70b120"
      },
      "outputs": [
        {
          "data": {
            "text/plain": [
              "(10000,)"
            ]
          },
          "execution_count": 9,
          "metadata": {},
          "output_type": "execute_result"
        }
      ],
      "source": [
        "y_test.shape"
      ]
    },
    {
      "cell_type": "code",
      "execution_count": null,
      "metadata": {
        "id": "-ha605K0G8ne"
      },
      "outputs": [],
      "source": [
        "from keras.utils import to_categorical\n",
        "y_train=to_categorical(y_train)\n",
        "y_test=to_categorical(y_test)"
      ]
    },
    {
      "cell_type": "code",
      "execution_count": null,
      "metadata": {
        "id": "4j0Kw1RhHhCk"
      },
      "outputs": [],
      "source": [
        "from keras.models import Sequential,Model\n",
        "from keras.layers import Dense,Dropout,Flatten,Activation\n",
        "from keras.layers import Conv2D,MaxPool2D\n",
        "\n",
        "model=Sequential()\n",
        "model.add(Conv2D(32,kernel_size=(3,3),activation='relu',input_shape=(28,28,1),padding='same'))"
      ]
    },
    {
      "cell_type": "code",
      "execution_count": null,
      "metadata": {
        "id": "-aSKXCPyJu9Z"
      },
      "outputs": [],
      "source": [
        "model.add(MaxPool2D((2,2),padding='same'))\n",
        "model.add(Conv2D(64,kernel_size=(3,3),activation='relu',padding='same'))\n",
        "model.add(MaxPool2D((2,2),padding='same'))\n",
        "model.add(Conv2D(128,kernel_size=(3,3),activation='relu',padding='same'))\n",
        "model.add(MaxPool2D((2,2),padding='same'))\n",
        "model.add(Flatten())\n",
        "model.add(Dense(128,activation='relu'))\n",
        "model.add(Dense(10,activation='softmax'))"
      ]
    },
    {
      "cell_type": "code",
      "execution_count": null,
      "metadata": {
        "id": "SSBerdi9PhXa"
      },
      "outputs": [],
      "source": [
        "import numpy as np\n",
        "import tensorflow as tf\n",
        "from tensorflow import keras\n",
        "from tensorflow.python import metrics"
      ]
    },
    {
      "cell_type": "code",
      "execution_count": null,
      "metadata": {
        "colab": {
          "base_uri": "https://localhost:8080/"
        },
        "id": "dr1pWnfnKuvZ",
        "outputId": "a9f11f18-f10b-44ca-9280-73a5b02a2b00"
      },
      "outputs": [
        {
          "output_type": "stream",
          "name": "stdout",
          "text": [
            "Epoch 1/20\n",
            "469/469 - 95s - loss: 0.4226 - accuracy: 0.9243 - 95s/epoch - 203ms/step\n",
            "Epoch 2/20\n",
            "469/469 - 88s - loss: 0.0498 - accuracy: 0.9847 - 88s/epoch - 187ms/step\n",
            "Epoch 3/20\n",
            "469/469 - 88s - loss: 0.0353 - accuracy: 0.9887 - 88s/epoch - 188ms/step\n",
            "Epoch 4/20\n",
            "469/469 - 89s - loss: 0.0239 - accuracy: 0.9923 - 89s/epoch - 189ms/step\n",
            "Epoch 5/20\n",
            "469/469 - 88s - loss: 0.0209 - accuracy: 0.9934 - 88s/epoch - 188ms/step\n",
            "Epoch 6/20\n",
            "469/469 - 88s - loss: 0.0189 - accuracy: 0.9936 - 88s/epoch - 188ms/step\n",
            "Epoch 7/20\n",
            "469/469 - 89s - loss: 0.0187 - accuracy: 0.9941 - 89s/epoch - 191ms/step\n",
            "Epoch 8/20\n",
            "469/469 - 90s - loss: 0.0158 - accuracy: 0.9946 - 90s/epoch - 191ms/step\n",
            "Epoch 9/20\n",
            "469/469 - 87s - loss: 0.0163 - accuracy: 0.9944 - 87s/epoch - 185ms/step\n",
            "Epoch 10/20\n",
            "469/469 - 89s - loss: 0.0140 - accuracy: 0.9954 - 89s/epoch - 189ms/step\n",
            "Epoch 11/20\n",
            "469/469 - 88s - loss: 0.0143 - accuracy: 0.9954 - 88s/epoch - 187ms/step\n",
            "Epoch 12/20\n",
            "469/469 - 87s - loss: 0.0143 - accuracy: 0.9954 - 87s/epoch - 185ms/step\n",
            "Epoch 13/20\n",
            "469/469 - 88s - loss: 0.0146 - accuracy: 0.9952 - 88s/epoch - 188ms/step\n",
            "Epoch 14/20\n",
            "469/469 - 87s - loss: 0.0102 - accuracy: 0.9968 - 87s/epoch - 186ms/step\n",
            "Epoch 15/20\n",
            "469/469 - 87s - loss: 0.0116 - accuracy: 0.9963 - 87s/epoch - 185ms/step\n",
            "Epoch 16/20\n",
            "469/469 - 88s - loss: 0.0130 - accuracy: 0.9961 - 88s/epoch - 188ms/step\n",
            "Epoch 17/20\n",
            "469/469 - 87s - loss: 0.0088 - accuracy: 0.9970 - 87s/epoch - 185ms/step\n",
            "Epoch 18/20\n",
            "469/469 - 87s - loss: 0.0112 - accuracy: 0.9967 - 87s/epoch - 185ms/step\n",
            "Epoch 19/20\n",
            "469/469 - 89s - loss: 0.0101 - accuracy: 0.9971 - 89s/epoch - 189ms/step\n",
            "Epoch 20/20\n",
            "469/469 - 88s - loss: 0.0083 - accuracy: 0.9972 - 88s/epoch - 188ms/step\n"
          ]
        }
      ],
      "source": [
        "model.compile(loss='categorical_crossentropy', metrics=[\"accuracy\"],optimizer='adam')\n",
        "history=model.fit(X_train,y_train,batch_size=128,epochs=20,verbose=2)\n"
      ]
    },
    {
      "cell_type": "code",
      "execution_count": null,
      "metadata": {
        "id": "iB8pWNfSM9rA",
        "colab": {
          "base_uri": "https://localhost:8080/",
          "height": 313
        },
        "outputId": "af3e2cd9-b020-4f00-e727-46820f0b4580"
      },
      "outputs": [
        {
          "output_type": "execute_result",
          "data": {
            "text/plain": [
              "<matplotlib.legend.Legend at 0x7f4f258c1150>"
            ]
          },
          "metadata": {},
          "execution_count": 22
        },
        {
          "output_type": "display_data",
          "data": {
            "text/plain": [
              "<Figure size 432x288 with 1 Axes>"
            ],
            "image/png": "[encoded data removed]"
          },
          "metadata": {
            "needs_background": "light"
          }
        }
      ],
      "source": [
        "from IPython.core.formatters import PlainTextFormatter\n",
        "import matplotlib.pyplot as plt\n",
        "plt.plot(history.history['accuracy'])\n",
        "plt.title('do chinh xac mo hinh')\n",
        "plt.plot(history.history['loss'])\n",
        "plt.ylabel('do chinh xac')\n",
        "plt.xlabel('so lan hoc')\n",
        "plt.legend(['do chinh xac','sai so'],loc='lower right')"
      ]
    },
    {
      "cell_type": "code",
      "source": [
        "test_loss, test_acc = model.evaluate(x_test, y_test)\n",
        "print('test accurracy', test_acc)"
      ],
      "metadata": {
        "colab": {
          "base_uri": "https://localhost:8080/",
          "height": 189
        },
        "id": "dkiVPt1jCPzT",
        "outputId": "71b63e2b-e505-4735-9aa4-08ac3f7f9578"
      },
      "execution_count": null,
      "outputs": [
        {
          "output_type": "error",
          "ename": "NameError",
          "evalue": "ignored",
          "traceback": [
            "\u001b[0;31m---------------------------------------------------------------------------\u001b[0m",
            "\u001b[0;31mNameError\u001b[0m                                 Traceback (most recent call last)",
            "\u001b[0;32m<ipython-input-23-ddac34a584db>\u001b[0m in \u001b[0;36m<module>\u001b[0;34m\u001b[0m\n\u001b[0;32m----> 1\u001b[0;31m \u001b[0mtest_loss\u001b[0m\u001b[0;34m,\u001b[0m \u001b[0mtest_acc\u001b[0m \u001b[0;34m=\u001b[0m \u001b[0mmodel\u001b[0m\u001b[0;34m.\u001b[0m\u001b[0mevaluate\u001b[0m\u001b[0;34m(\u001b[0m\u001b[0mx_test\u001b[0m\u001b[0;34m,\u001b[0m \u001b[0my_test\u001b[0m\u001b[0;34m)\u001b[0m\u001b[0;34m\u001b[0m\u001b[0;34m\u001b[0m\u001b[0m\n\u001b[0m\u001b[1;32m      2\u001b[0m \u001b[0mprint\u001b[0m\u001b[0;34m(\u001b[0m\u001b[0;34m'test accurracy'\u001b[0m\u001b[0;34m,\u001b[0m \u001b[0mtest_acc\u001b[0m\u001b[0;34m)\u001b[0m\u001b[0;34m\u001b[0m\u001b[0;34m\u001b[0m\u001b[0m\n",
            "\u001b[0;31mNameError\u001b[0m: name 'x_test' is not defined"
          ]
        }
      ]
    },
    {
      "cell_type": "code",
      "source": [
        "import numpy as np\n",
        "from tensorflow.keras.utils import load_img\n",
        "from tensorflow.keras.utils import img_to_array\n",
        "url = '/meo.jpg'\n",
        "img = load_img(url, target_size = (28,28))\n",
        "plt.imshow(img)\n",
        "img = img_to_array(img)\n",
        "\n",
        "img = img.astype('float32')/255\n",
        "img = img.reshape(1,32*32*3)\n",
        "Class_names = ['May bay', 'oto','chim','meo','huou','cho','huou','may bay','tau']\n",
        "ketqua = int(np.argmax(model.predict(img),axis = 1))\n",
        "print(Class_names[ketqua])\n",
        "print(ketqua)\n",
        "test_loss, test_acc = model.evaluate(x_test, y_test)\n",
        "print('test accurracy', test_acc)"
      ],
      "metadata": {
        "id": "6je0yYxABzNw",
        "colab": {
          "base_uri": "https://localhost:8080/",
          "height": 370
        },
        "outputId": "b61fd6ac-845b-4c4c-bfda-d4bcb0141793"
      },
      "execution_count": null,
      "outputs": [
        {
          "output_type": "error",
          "ename": "FileNotFoundError",
          "evalue": "ignored",
          "traceback": [
            "\u001b[0;31m---------------------------------------------------------------------------\u001b[0m",
            "\u001b[0;31mFileNotFoundError\u001b[0m                         Traceback (most recent call last)",
            "\u001b[0;32m<ipython-input-25-35f5f0a7de6e>\u001b[0m in \u001b[0;36m<module>\u001b[0;34m\u001b[0m\n\u001b[1;32m      3\u001b[0m \u001b[0;32mfrom\u001b[0m \u001b[0mtensorflow\u001b[0m\u001b[0;34m.\u001b[0m\u001b[0mkeras\u001b[0m\u001b[0;34m.\u001b[0m\u001b[0mutils\u001b[0m \u001b[0;32mimport\u001b[0m \u001b[0mimg_to_array\u001b[0m\u001b[0;34m\u001b[0m\u001b[0;34m\u001b[0m\u001b[0m\n\u001b[1;32m      4\u001b[0m \u001b[0murl\u001b[0m \u001b[0;34m=\u001b[0m \u001b[0;34m'/meo.jpg'\u001b[0m\u001b[0;34m\u001b[0m\u001b[0;34m\u001b[0m\u001b[0m\n\u001b[0;32m----> 5\u001b[0;31m \u001b[0mimg\u001b[0m \u001b[0;34m=\u001b[0m \u001b[0mload_img\u001b[0m\u001b[0;34m(\u001b[0m\u001b[0murl\u001b[0m\u001b[0;34m,\u001b[0m \u001b[0mtarget_size\u001b[0m \u001b[0;34m=\u001b[0m \u001b[0;34m(\u001b[0m\u001b[0;36m28\u001b[0m\u001b[0;34m,\u001b[0m\u001b[0;36m28\u001b[0m\u001b[0;34m)\u001b[0m\u001b[0;34m)\u001b[0m\u001b[0;34m\u001b[0m\u001b[0;34m\u001b[0m\u001b[0m\n\u001b[0m\u001b[1;32m      6\u001b[0m \u001b[0mplt\u001b[0m\u001b[0;34m.\u001b[0m\u001b[0mimshow\u001b[0m\u001b[0;34m(\u001b[0m\u001b[0mimg\u001b[0m\u001b[0;34m)\u001b[0m\u001b[0;34m\u001b[0m\u001b[0;34m\u001b[0m\u001b[0m\n\u001b[1;32m      7\u001b[0m \u001b[0mimg\u001b[0m \u001b[0;34m=\u001b[0m \u001b[0mimg_to_array\u001b[0m\u001b[0;34m(\u001b[0m\u001b[0mimg\u001b[0m\u001b[0;34m)\u001b[0m\u001b[0;34m\u001b[0m\u001b[0;34m\u001b[0m\u001b[0m\n",
            "\u001b[0;32m/usr/local/lib/python3.7/dist-packages/keras/utils/image_utils.py\u001b[0m in \u001b[0;36mload_img\u001b[0;34m(path, grayscale, color_mode, target_size, interpolation, keep_aspect_ratio)\u001b[0m\n\u001b[1;32m    391\u001b[0m     \u001b[0;32mif\u001b[0m \u001b[0misinstance\u001b[0m\u001b[0;34m(\u001b[0m\u001b[0mpath\u001b[0m\u001b[0;34m,\u001b[0m \u001b[0mpathlib\u001b[0m\u001b[0;34m.\u001b[0m\u001b[0mPath\u001b[0m\u001b[0;34m)\u001b[0m\u001b[0;34m:\u001b[0m\u001b[0;34m\u001b[0m\u001b[0;34m\u001b[0m\u001b[0m\n\u001b[1;32m    392\u001b[0m       \u001b[0mpath\u001b[0m \u001b[0;34m=\u001b[0m \u001b[0mstr\u001b[0m\u001b[0;34m(\u001b[0m\u001b[0mpath\u001b[0m\u001b[0;34m.\u001b[0m\u001b[0mresolve\u001b[0m\u001b[0;34m(\u001b[0m\u001b[0;34m)\u001b[0m\u001b[0;34m)\u001b[0m\u001b[0;34m\u001b[0m\u001b[0;34m\u001b[0m\u001b[0m\n\u001b[0;32m--> 393\u001b[0;31m     \u001b[0;32mwith\u001b[0m \u001b[0mopen\u001b[0m\u001b[0;34m(\u001b[0m\u001b[0mpath\u001b[0m\u001b[0;34m,\u001b[0m \u001b[0;34m'rb'\u001b[0m\u001b[0;34m)\u001b[0m \u001b[0;32mas\u001b[0m \u001b[0mf\u001b[0m\u001b[0;34m:\u001b[0m\u001b[0;34m\u001b[0m\u001b[0;34m\u001b[0m\u001b[0m\n\u001b[0m\u001b[1;32m    394\u001b[0m       \u001b[0mimg\u001b[0m \u001b[0;34m=\u001b[0m \u001b[0mpil_image\u001b[0m\u001b[0;34m.\u001b[0m\u001b[0mopen\u001b[0m\u001b[0;34m(\u001b[0m\u001b[0mio\u001b[0m\u001b[0;34m.\u001b[0m\u001b[0mBytesIO\u001b[0m\u001b[0;34m(\u001b[0m\u001b[0mf\u001b[0m\u001b[0;34m.\u001b[0m\u001b[0mread\u001b[0m\u001b[0;34m(\u001b[0m\u001b[0;34m)\u001b[0m\u001b[0;34m)\u001b[0m\u001b[0;34m)\u001b[0m\u001b[0;34m\u001b[0m\u001b[0;34m\u001b[0m\u001b[0m\n\u001b[1;32m    395\u001b[0m   \u001b[0;32melse\u001b[0m\u001b[0;34m:\u001b[0m\u001b[0;34m\u001b[0m\u001b[0;34m\u001b[0m\u001b[0m\n",
            "\u001b[0;31mFileNotFoundError\u001b[0m: [Errno 2] No such file or directory: '/meo.jpg'"
          ]
        }
      ]
    },
    {
      "cell_type": "code",
      "source": [],
      "metadata": {
        "id": "iNAG3OkdCqGW"
      },
      "execution_count": null,
      "outputs": []
    }
  ],
  "metadata": {
    "colab": {
      "provenance": [],
      "authorship_tag": "ABX9TyM3LYTxO9LKD/Oeyf4UjiDL",
      "include_colab_link": true
    },
    "kernelspec": {
      "display_name": "Python 3",
      "name": "python3"
    },
    "language_info": {
      "name": "python"
    }
  },
  "nbformat": 4,
  "nbformat_minor": 0
}