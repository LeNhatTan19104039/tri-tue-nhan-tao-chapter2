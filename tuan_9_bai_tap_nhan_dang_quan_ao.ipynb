{
  "nbformat": 4,
  "nbformat_minor": 0,
  "metadata": {
    "colab": {
      "provenance": [],
      "authorship_tag": "ABX9TyPtEBnHqZOCd/sSb3gMAl9x",
      "include_colab_link": true
    },
    "kernelspec": {
      "name": "python3",
      "display_name": "Python 3"
    },
    "language_info": {
      "name": "python"
    }
  },
  "cells": [
    {
      "cell_type": "markdown",
      "metadata": {
        "id": "view-in-github",
        "colab_type": "text"
      },
      "source": [
        "<a href=\"https://colab.research.google.com/github/LeNhatTan19104039/tri-tue-nhan-tao-chapter2/blob/main/tuan_9_bai_tap_nhan_dang_quan_ao.ipynb\" target=\"_parent\"><img src=\"https://colab.research.google.com/assets/colab-badge.svg\" alt=\"Open In Colab\"/></a>"
      ]
    },
    {
      "cell_type": "code",
      "execution_count": null,
      "metadata": {
        "colab": {
          "base_uri": "https://localhost:8080/"
        },
        "id": "p63JiUdrGymA",
        "outputId": "c5791b92-d919-4fd2-9562-bd6091bbc5b2"
      },
      "outputs": [
        {
          "output_type": "execute_result",
          "data": {
            "text/plain": [
              "(60000, 28, 28)"
            ]
          },
          "metadata": {},
          "execution_count": 4
        }
      ],
      "source": [
        "from keras.datasets import fashion_mnist\n",
        "(x_train,y_train),(x_test,y_test)=fashion_mnist.load_data()\n",
        "x_train.shape"
      ]
    },
    {
      "cell_type": "code",
      "source": [
        "y_train.shape"
      ],
      "metadata": {
        "colab": {
          "base_uri": "https://localhost:8080/"
        },
        "id": "aAehs_3GHYE8",
        "outputId": "16040ec6-6b0a-4483-c701-7905beee1343"
      },
      "execution_count": null,
      "outputs": [
        {
          "output_type": "execute_result",
          "data": {
            "text/plain": [
              "(60000,)"
            ]
          },
          "metadata": {},
          "execution_count": 3
        }
      ]
    },
    {
      "cell_type": "code",
      "source": [
        "x_test.shape"
      ],
      "metadata": {
        "colab": {
          "base_uri": "https://localhost:8080/"
        },
        "id": "Kimou-U5HkbC",
        "outputId": "06bb75f0-8d5a-4c55-c6d5-bb6935cd6a28"
      },
      "execution_count": null,
      "outputs": [
        {
          "output_type": "execute_result",
          "data": {
            "text/plain": [
              "(10000, 28, 28)"
            ]
          },
          "metadata": {},
          "execution_count": 4
        }
      ]
    },
    {
      "cell_type": "code",
      "source": [
        "y_test.shape"
      ],
      "metadata": {
        "colab": {
          "base_uri": "https://localhost:8080/"
        },
        "id": "CjeWKPi6Hmwx",
        "outputId": "ab7b06ed-3bdd-4657-8dc0-2cce12296752"
      },
      "execution_count": null,
      "outputs": [
        {
          "output_type": "execute_result",
          "data": {
            "text/plain": [
              "(10000,)"
            ]
          },
          "metadata": {},
          "execution_count": 5
        }
      ]
    },
    {
      "cell_type": "code",
      "source": [
        "class_names = ['T-shirt/top', 'Trouser', 'Pullover', 'Dress', 'Coat',\n",
        "               'Sandal', 'Shirt', 'Sneaker', 'Bag', 'Ankle boot']"
      ],
      "metadata": {
        "id": "oDQsNQj4Hpl0"
      },
      "execution_count": null,
      "outputs": []
    },
    {
      "cell_type": "code",
      "source": [
        "import matplotlib.pyplot as plt\n",
        "plt.imshow(x_train[1000])\n",
        "plt.show()\n",
        "print(class_names[y_train[1000]])"
      ],
      "metadata": {
        "colab": {
          "base_uri": "https://localhost:8080/",
          "height": 283
        },
        "id": "JBmEtAk5JHWB",
        "outputId": "0521158c-ecd9-4e9e-c16b-4b548f0351f9"
      },
      "execution_count": null,
      "outputs": [
        {
          "output_type": "display_data",
          "data": {
            "text/plain": [
              "<Figure size 432x288 with 1 Axes>"
            ],
            "image/png": "[encoded data removed]"
          },
          "metadata": {
            "needs_background": "light"
          }
        },
        {
          "output_type": "stream",
          "name": "stdout",
          "text": [
            "Trouser\n"
          ]
        }
      ]
    },
    {
      "cell_type": "code",
      "source": [
        "from keras.engine.training import model_serialization\n",
        "from keras import models\n",
        "from keras import layers\n",
        "from tensorflow.python import metrics\n",
        "model=models.Sequential()\n",
        "model.add(layers.Dense(512,activation='relu',input_shape=(28*28,)))\n",
        "model.add(layers.Dense(10,activation='softmax'))\n",
        "model.summary()\n"
      ],
      "metadata": {
        "colab": {
          "base_uri": "https://localhost:8080/"
        },
        "id": "qT_3qz4DJR-q",
        "outputId": "cf42bc36-117d-4d5c-865f-d69f98d468b1"
      },
      "execution_count": null,
      "outputs": [
        {
          "output_type": "stream",
          "name": "stdout",
          "text": [
            "Model: \"sequential_3\"\n",
            "_________________________________________________________________\n",
            " Layer (type)                Output Shape              Param #   \n",
            "=================================================================\n",
            " dense_6 (Dense)             (None, 512)               401920    \n",
            "                                                                 \n",
            " dense_7 (Dense)             (None, 10)                5130      \n",
            "                                                                 \n",
            "=================================================================\n",
            "Total params: 407,050\n",
            "Trainable params: 407,050\n",
            "Non-trainable params: 0\n",
            "_________________________________________________________________\n"
          ]
        }
      ]
    },
    {
      "cell_type": "code",
      "source": [
        "x_train=x_train.reshape((60000,28*28))\n",
        "x_train=x_train.astype('float32')/255\n",
        "x_test=x_test.reshape((10000,28*28))\n",
        "x_test=x_test.astype('float32')/255"
      ],
      "metadata": {
        "id": "7Rq6XPxnTuKd"
      },
      "execution_count": null,
      "outputs": []
    },
    {
      "cell_type": "code",
      "source": [
        "from keras.utils import to_categorical\n",
        "y_train=to_categorical(y_train)\n",
        "y_test=to_categorical(y_test)"
      ],
      "metadata": {
        "id": "Rg_KfAW0MksS"
      },
      "execution_count": null,
      "outputs": []
    },
    {
      "cell_type": "code",
      "source": [
        "model.compile(optimizer='rmsprop',loss='categorical_crossentropy', metrics=\"accuracy\")\n",
        "model.fit(x_train, y_train, epochs=100,batch_size=128)"
      ],
      "metadata": {
        "colab": {
          "base_uri": "https://localhost:8080/"
        },
        "id": "KjUCGbRRTgke",
        "outputId": "d0e7f7d7-9c2d-4498-a0e2-5d5cad1b1e8d"
      },
      "execution_count": null,
      "outputs": [
        {
          "output_type": "stream",
          "name": "stdout",
          "text": [
            "Epoch 1/100\n",
            "469/469 [==============================] - 6s 11ms/step - loss: 1.2810 - accuracy: 0.6256\n",
            "Epoch 2/100\n",
            "469/469 [==============================] - 5s 11ms/step - loss: 0.6924 - accuracy: 0.7549\n",
            "Epoch 3/100\n",
            "469/469 [==============================] - 5s 11ms/step - loss: 0.5933 - accuracy: 0.7862\n",
            "Epoch 4/100\n",
            "469/469 [==============================] - 7s 15ms/step - loss: 0.5421 - accuracy: 0.8067\n",
            "Epoch 5/100\n",
            "469/469 [==============================] - 11s 23ms/step - loss: 0.5083 - accuracy: 0.8198\n",
            "Epoch 6/100\n",
            "469/469 [==============================] - 5s 11ms/step - loss: 0.4851 - accuracy: 0.8276\n",
            "Epoch 7/100\n",
            "469/469 [==============================] - 5s 11ms/step - loss: 0.4684 - accuracy: 0.8342\n",
            "Epoch 8/100\n",
            "469/469 [==============================] - 6s 13ms/step - loss: 0.4545 - accuracy: 0.8389\n",
            "Epoch 9/100\n",
            "469/469 [==============================] - 6s 12ms/step - loss: 0.4431 - accuracy: 0.8436\n",
            "Epoch 10/100\n",
            "469/469 [==============================] - 5s 11ms/step - loss: 0.4336 - accuracy: 0.8460\n",
            "Epoch 11/100\n",
            "469/469 [==============================] - 5s 11ms/step - loss: 0.4257 - accuracy: 0.8501\n",
            "Epoch 12/100\n",
            "469/469 [==============================] - 5s 11ms/step - loss: 0.4180 - accuracy: 0.8533\n",
            "Epoch 13/100\n",
            "469/469 [==============================] - 5s 11ms/step - loss: 0.4121 - accuracy: 0.8549\n",
            "Epoch 14/100\n",
            "469/469 [==============================] - 5s 11ms/step - loss: 0.4060 - accuracy: 0.8569\n",
            "Epoch 15/100\n",
            "469/469 [==============================] - 5s 11ms/step - loss: 0.4006 - accuracy: 0.8582\n",
            "Epoch 16/100\n",
            "469/469 [==============================] - 5s 11ms/step - loss: 0.3957 - accuracy: 0.8605\n",
            "Epoch 17/100\n",
            "469/469 [==============================] - 5s 11ms/step - loss: 0.3912 - accuracy: 0.8616\n",
            "Epoch 18/100\n",
            "469/469 [==============================] - 5s 11ms/step - loss: 0.3866 - accuracy: 0.8626\n",
            "Epoch 19/100\n",
            "469/469 [==============================] - 5s 11ms/step - loss: 0.3821 - accuracy: 0.8654\n",
            "Epoch 20/100\n",
            "469/469 [==============================] - 5s 11ms/step - loss: 0.3782 - accuracy: 0.8663\n",
            "Epoch 21/100\n",
            "469/469 [==============================] - 5s 11ms/step - loss: 0.3742 - accuracy: 0.8677\n",
            "Epoch 22/100\n",
            "469/469 [==============================] - 5s 11ms/step - loss: 0.3704 - accuracy: 0.8688\n",
            "Epoch 23/100\n",
            "469/469 [==============================] - 5s 11ms/step - loss: 0.3676 - accuracy: 0.8696\n",
            "Epoch 24/100\n",
            "469/469 [==============================] - 5s 11ms/step - loss: 0.3642 - accuracy: 0.8712\n",
            "Epoch 25/100\n",
            "469/469 [==============================] - 5s 11ms/step - loss: 0.3607 - accuracy: 0.8723\n",
            "Epoch 26/100\n",
            "469/469 [==============================] - 5s 11ms/step - loss: 0.3571 - accuracy: 0.8730\n",
            "Epoch 27/100\n",
            "469/469 [==============================] - 5s 11ms/step - loss: 0.3546 - accuracy: 0.8738\n",
            "Epoch 28/100\n",
            "469/469 [==============================] - 5s 11ms/step - loss: 0.3521 - accuracy: 0.8754\n",
            "Epoch 29/100\n",
            "469/469 [==============================] - 5s 11ms/step - loss: 0.3482 - accuracy: 0.8764\n",
            "Epoch 30/100\n",
            "469/469 [==============================] - 5s 11ms/step - loss: 0.3461 - accuracy: 0.8771\n",
            "Epoch 31/100\n",
            "469/469 [==============================] - 5s 11ms/step - loss: 0.3432 - accuracy: 0.8783\n",
            "Epoch 32/100\n",
            "469/469 [==============================] - 5s 11ms/step - loss: 0.3405 - accuracy: 0.8794\n",
            "Epoch 33/100\n",
            "469/469 [==============================] - 5s 11ms/step - loss: 0.3375 - accuracy: 0.8796\n",
            "Epoch 34/100\n",
            "469/469 [==============================] - 5s 11ms/step - loss: 0.3354 - accuracy: 0.8816\n",
            "Epoch 35/100\n",
            "469/469 [==============================] - 5s 12ms/step - loss: 0.3328 - accuracy: 0.8815\n",
            "Epoch 36/100\n",
            "469/469 [==============================] - 5s 12ms/step - loss: 0.3303 - accuracy: 0.8827\n",
            "Epoch 37/100\n",
            "469/469 [==============================] - 5s 12ms/step - loss: 0.3278 - accuracy: 0.8830\n",
            "Epoch 38/100\n",
            "469/469 [==============================] - 5s 12ms/step - loss: 0.3249 - accuracy: 0.8859\n",
            "Epoch 39/100\n",
            "469/469 [==============================] - 5s 11ms/step - loss: 0.3231 - accuracy: 0.8849\n",
            "Epoch 40/100\n",
            "469/469 [==============================] - 6s 13ms/step - loss: 0.3208 - accuracy: 0.8857\n",
            "Epoch 41/100\n",
            "469/469 [==============================] - 5s 11ms/step - loss: 0.3186 - accuracy: 0.8867\n",
            "Epoch 42/100\n",
            "469/469 [==============================] - 5s 11ms/step - loss: 0.3160 - accuracy: 0.8870\n",
            "Epoch 43/100\n",
            "469/469 [==============================] - 5s 11ms/step - loss: 0.3140 - accuracy: 0.8880\n",
            "Epoch 44/100\n",
            "469/469 [==============================] - 5s 11ms/step - loss: 0.3118 - accuracy: 0.8886\n",
            "Epoch 45/100\n",
            "469/469 [==============================] - 5s 11ms/step - loss: 0.3100 - accuracy: 0.8893\n",
            "Epoch 46/100\n",
            "469/469 [==============================] - 5s 11ms/step - loss: 0.3082 - accuracy: 0.8907\n",
            "Epoch 47/100\n",
            "469/469 [==============================] - 5s 11ms/step - loss: 0.3059 - accuracy: 0.8908\n",
            "Epoch 48/100\n",
            "469/469 [==============================] - 5s 11ms/step - loss: 0.3042 - accuracy: 0.8912\n",
            "Epoch 49/100\n",
            "469/469 [==============================] - 5s 11ms/step - loss: 0.3018 - accuracy: 0.8918\n",
            "Epoch 50/100\n",
            "469/469 [==============================] - 5s 11ms/step - loss: 0.3002 - accuracy: 0.8926\n",
            "Epoch 51/100\n",
            "469/469 [==============================] - 5s 12ms/step - loss: 0.2980 - accuracy: 0.8939\n",
            "Epoch 52/100\n",
            "469/469 [==============================] - 6s 12ms/step - loss: 0.2961 - accuracy: 0.8946\n",
            "Epoch 53/100\n",
            "469/469 [==============================] - 5s 12ms/step - loss: 0.2943 - accuracy: 0.8946\n",
            "Epoch 54/100\n",
            "469/469 [==============================] - 5s 11ms/step - loss: 0.2929 - accuracy: 0.8958\n",
            "Epoch 55/100\n",
            "469/469 [==============================] - 5s 11ms/step - loss: 0.2911 - accuracy: 0.8964\n",
            "Epoch 56/100\n",
            "469/469 [==============================] - 5s 11ms/step - loss: 0.2890 - accuracy: 0.8966\n",
            "Epoch 57/100\n",
            "469/469 [==============================] - 5s 11ms/step - loss: 0.2870 - accuracy: 0.8970\n",
            "Epoch 58/100\n",
            "469/469 [==============================] - 5s 11ms/step - loss: 0.2854 - accuracy: 0.8977\n",
            "Epoch 59/100\n",
            "469/469 [==============================] - 5s 11ms/step - loss: 0.2841 - accuracy: 0.8975\n",
            "Epoch 60/100\n",
            "469/469 [==============================] - 5s 12ms/step - loss: 0.2822 - accuracy: 0.9001\n",
            "Epoch 61/100\n",
            "469/469 [==============================] - 5s 11ms/step - loss: 0.2810 - accuracy: 0.8996\n",
            "Epoch 62/100\n",
            "469/469 [==============================] - 6s 12ms/step - loss: 0.2785 - accuracy: 0.9004\n",
            "Epoch 63/100\n",
            "469/469 [==============================] - 5s 12ms/step - loss: 0.2775 - accuracy: 0.9001\n",
            "Epoch 64/100\n",
            "469/469 [==============================] - 5s 11ms/step - loss: 0.2760 - accuracy: 0.9011\n",
            "Epoch 65/100\n",
            "469/469 [==============================] - 5s 12ms/step - loss: 0.2743 - accuracy: 0.9024\n",
            "Epoch 66/100\n",
            "469/469 [==============================] - 5s 11ms/step - loss: 0.2728 - accuracy: 0.9023\n",
            "Epoch 67/100\n",
            "469/469 [==============================] - 5s 11ms/step - loss: 0.2712 - accuracy: 0.9030\n",
            "Epoch 68/100\n",
            "469/469 [==============================] - 5s 11ms/step - loss: 0.2701 - accuracy: 0.9036\n",
            "Epoch 69/100\n",
            "469/469 [==============================] - 5s 11ms/step - loss: 0.2686 - accuracy: 0.9037\n",
            "Epoch 70/100\n",
            "469/469 [==============================] - 5s 12ms/step - loss: 0.2667 - accuracy: 0.9032\n",
            "Epoch 71/100\n",
            "469/469 [==============================] - 5s 12ms/step - loss: 0.2658 - accuracy: 0.9055\n",
            "Epoch 72/100\n",
            "469/469 [==============================] - 5s 11ms/step - loss: 0.2638 - accuracy: 0.9054\n",
            "Epoch 73/100\n",
            "469/469 [==============================] - 5s 11ms/step - loss: 0.2627 - accuracy: 0.9059\n",
            "Epoch 74/100\n",
            "469/469 [==============================] - 6s 12ms/step - loss: 0.2618 - accuracy: 0.9065\n",
            "Epoch 75/100\n",
            "469/469 [==============================] - 6s 12ms/step - loss: 0.2594 - accuracy: 0.9076\n",
            "Epoch 76/100\n",
            "469/469 [==============================] - 5s 12ms/step - loss: 0.2583 - accuracy: 0.9081\n",
            "Epoch 77/100\n",
            "469/469 [==============================] - 6s 12ms/step - loss: 0.2571 - accuracy: 0.9084\n",
            "Epoch 78/100\n",
            "469/469 [==============================] - 6s 12ms/step - loss: 0.2558 - accuracy: 0.9086\n",
            "Epoch 79/100\n",
            "469/469 [==============================] - 6s 12ms/step - loss: 0.2548 - accuracy: 0.9080\n",
            "Epoch 80/100\n",
            "469/469 [==============================] - 5s 12ms/step - loss: 0.2539 - accuracy: 0.9093\n",
            "Epoch 81/100\n",
            "469/469 [==============================] - 6s 14ms/step - loss: 0.2522 - accuracy: 0.9098\n",
            "Epoch 82/100\n",
            "469/469 [==============================] - 6s 12ms/step - loss: 0.2508 - accuracy: 0.9103\n",
            "Epoch 83/100\n",
            "469/469 [==============================] - 5s 12ms/step - loss: 0.2498 - accuracy: 0.9113\n",
            "Epoch 84/100\n",
            "469/469 [==============================] - 5s 12ms/step - loss: 0.2482 - accuracy: 0.9122\n",
            "Epoch 85/100\n",
            "469/469 [==============================] - 6s 12ms/step - loss: 0.2473 - accuracy: 0.9113\n",
            "Epoch 86/100\n",
            "469/469 [==============================] - 5s 12ms/step - loss: 0.2460 - accuracy: 0.9125\n",
            "Epoch 87/100\n",
            "469/469 [==============================] - 5s 11ms/step - loss: 0.2451 - accuracy: 0.9125\n",
            "Epoch 88/100\n",
            "469/469 [==============================] - 5s 12ms/step - loss: 0.2435 - accuracy: 0.9125\n",
            "Epoch 89/100\n",
            "469/469 [==============================] - 6s 12ms/step - loss: 0.2426 - accuracy: 0.9129\n",
            "Epoch 90/100\n",
            "469/469 [==============================] - 5s 12ms/step - loss: 0.2418 - accuracy: 0.9132\n",
            "Epoch 91/100\n",
            "469/469 [==============================] - 5s 11ms/step - loss: 0.2404 - accuracy: 0.9143\n",
            "Epoch 92/100\n",
            "469/469 [==============================] - 5s 12ms/step - loss: 0.2392 - accuracy: 0.9147\n",
            "Epoch 93/100\n",
            "469/469 [==============================] - 5s 12ms/step - loss: 0.2377 - accuracy: 0.9150\n",
            "Epoch 94/100\n",
            "469/469 [==============================] - 5s 12ms/step - loss: 0.2370 - accuracy: 0.9154\n",
            "Epoch 95/100\n",
            "469/469 [==============================] - 5s 12ms/step - loss: 0.2360 - accuracy: 0.9152\n",
            "Epoch 96/100\n",
            "469/469 [==============================] - 5s 12ms/step - loss: 0.2347 - accuracy: 0.9158\n",
            "Epoch 97/100\n",
            "469/469 [==============================] - 5s 11ms/step - loss: 0.2338 - accuracy: 0.9166\n",
            "Epoch 98/100\n",
            "469/469 [==============================] - 5s 12ms/step - loss: 0.2328 - accuracy: 0.9173\n",
            "Epoch 99/100\n",
            "469/469 [==============================] - 5s 11ms/step - loss: 0.2319 - accuracy: 0.9167\n",
            "Epoch 100/100\n",
            "469/469 [==============================] - 5s 12ms/step - loss: 0.2301 - accuracy: 0.9188\n"
          ]
        },
        {
          "output_type": "execute_result",
          "data": {
            "text/plain": [
              "<keras.callbacks.History at 0x7f5c55e46710>"
            ]
          },
          "metadata": {},
          "execution_count": 10
        }
      ]
    },
    {
      "cell_type": "code",
      "source": [
        "import matplotlib.pyplot as plt\n",
        "img=load_img(url,target_size=[28,28])\n",
        "plt.imshow(img)\n",
        "img=img_to_arrray(img)\n",
        "img=img.reshape(1,28,28,3)\n",
        "img=img.astype('float32')\n",
        "img=img/255\n",
        "np.argmax(model.predict(img),axis=1)"
      ],
      "metadata": {
        "colab": {
          "base_uri": "https://localhost:8080/",
          "height": 243
        },
        "id": "zsjiadMJVflx",
        "outputId": "1b7997f6-b2d4-4017-f2fa-217f4cc742ac"
      },
      "execution_count": null,
      "outputs": [
        {
          "output_type": "error",
          "ename": "NameError",
          "evalue": "ignored",
          "traceback": [
            "\u001b[0;31m---------------------------------------------------------------------------\u001b[0m",
            "\u001b[0;31mNameError\u001b[0m                                 Traceback (most recent call last)",
            "\u001b[0;32m<ipython-input-12-e5d473e410b3>\u001b[0m in \u001b[0;36m<module>\u001b[0;34m\u001b[0m\n\u001b[1;32m      1\u001b[0m \u001b[0;32mimport\u001b[0m \u001b[0mmatplotlib\u001b[0m\u001b[0;34m.\u001b[0m\u001b[0mpyplot\u001b[0m \u001b[0;32mas\u001b[0m \u001b[0mplt\u001b[0m\u001b[0;34m\u001b[0m\u001b[0;34m\u001b[0m\u001b[0m\n\u001b[0;32m----> 2\u001b[0;31m \u001b[0mimg\u001b[0m\u001b[0;34m=\u001b[0m\u001b[0mload_img\u001b[0m\u001b[0;34m(\u001b[0m\u001b[0murl\u001b[0m\u001b[0;34m,\u001b[0m\u001b[0mtarget_size\u001b[0m\u001b[0;34m=\u001b[0m\u001b[0;34m[\u001b[0m\u001b[0;36m28\u001b[0m\u001b[0;34m,\u001b[0m\u001b[0;36m28\u001b[0m\u001b[0;34m]\u001b[0m\u001b[0;34m)\u001b[0m\u001b[0;34m\u001b[0m\u001b[0;34m\u001b[0m\u001b[0m\n\u001b[0m\u001b[1;32m      3\u001b[0m \u001b[0mplt\u001b[0m\u001b[0;34m.\u001b[0m\u001b[0mimshow\u001b[0m\u001b[0;34m(\u001b[0m\u001b[0mimg\u001b[0m\u001b[0;34m)\u001b[0m\u001b[0;34m\u001b[0m\u001b[0;34m\u001b[0m\u001b[0m\n\u001b[1;32m      4\u001b[0m \u001b[0mimg\u001b[0m\u001b[0;34m=\u001b[0m\u001b[0mimg_to_arrray\u001b[0m\u001b[0;34m(\u001b[0m\u001b[0mimg\u001b[0m\u001b[0;34m)\u001b[0m\u001b[0;34m\u001b[0m\u001b[0;34m\u001b[0m\u001b[0m\n\u001b[1;32m      5\u001b[0m \u001b[0mimg\u001b[0m\u001b[0;34m=\u001b[0m\u001b[0mimg\u001b[0m\u001b[0;34m.\u001b[0m\u001b[0mreshape\u001b[0m\u001b[0;34m(\u001b[0m\u001b[0;36m1\u001b[0m\u001b[0;34m,\u001b[0m\u001b[0;36m28\u001b[0m\u001b[0;34m,\u001b[0m\u001b[0;36m28\u001b[0m\u001b[0;34m,\u001b[0m\u001b[0;36m3\u001b[0m\u001b[0;34m)\u001b[0m\u001b[0;34m\u001b[0m\u001b[0;34m\u001b[0m\u001b[0m\n",
            "\u001b[0;31mNameError\u001b[0m: name 'load_img' is not defined"
          ]
        }
      ]
    }
  ]
}