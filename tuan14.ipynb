{
  "nbformat": 4,
  "nbformat_minor": 0,
  "metadata": {
    "colab": {
      "provenance": [],
      "authorship_tag": "ABX9TyOghVv6yeM8RfiTSPKBAJ2J",
      "include_colab_link": true
    },
    "kernelspec": {
      "name": "python3",
      "display_name": "Python 3"
    },
    "language_info": {
      "name": "python"
    }
  },
  "cells": [
    {
      "cell_type": "markdown",
      "metadata": {
        "id": "view-in-github",
        "colab_type": "text"
      },
      "source": [
        "<a href=\"https://colab.research.google.com/github/LeNhatTan19104039/tri-tue-nhan-tao-chapter2/blob/main/tuan14.ipynb\" target=\"_parent\"><img src=\"https://colab.research.google.com/assets/colab-badge.svg\" alt=\"Open In Colab\"/></a>"
      ]
    },
    {
      "cell_type": "code",
      "execution_count": null,
      "metadata": {
        "colab": {
          "base_uri": "https://localhost:8080/"
        },
        "id": "h191R0UzGp6o",
        "outputId": "1aa2ca6e-68a1-43f5-d530-a9cb14e01cc2"
      },
      "outputs": [
        {
          "output_type": "stream",
          "name": "stdout",
          "text": [
            "Looking in indexes: https://pypi.org/simple, https://us-python.pkg.dev/colab-wheels/public/simple/\n",
            "Requirement already satisfied: youtube_search in /usr/local/lib/python3.7/dist-packages (2.1.2)\n",
            "Requirement already satisfied: requests in /usr/local/lib/python3.7/dist-packages (from youtube_search) (2.23.0)\n",
            "Requirement already satisfied: urllib3!=1.25.0,!=1.25.1,<1.26,>=1.21.1 in /usr/local/lib/python3.7/dist-packages (from requests->youtube_search) (1.24.3)\n",
            "Requirement already satisfied: idna<3,>=2.5 in /usr/local/lib/python3.7/dist-packages (from requests->youtube_search) (2.10)\n",
            "Requirement already satisfied: chardet<4,>=3.0.2 in /usr/local/lib/python3.7/dist-packages (from requests->youtube_search) (3.0.4)\n",
            "Requirement already satisfied: certifi>=2017.4.17 in /usr/local/lib/python3.7/dist-packages (from requests->youtube_search) (2022.9.24)\n"
          ]
        }
      ],
      "source": [
        "pip install youtube_search"
      ]
    },
    {
      "cell_type": "code",
      "source": [
        "from youtube_search import YoutubeSearch\n",
        "import webbrowser\n",
        "mysong = input('xin moi ban chon ten bai hat:')\n",
        "print(mysong)\n",
        "result = YoutubeSearch(mysong,max_results=10).to_dict()\n",
        "print(result)\n",
        "print(result[0]['url_suffix'])\n",
        "url='http://youtube.com'+result[0]['url_suffix']\n",
        "print(url)\n",
        "webbrowser.open(url)\n",
        "print('bai hat yeu cau da duoc mo')"
      ],
      "metadata": {
        "colab": {
          "base_uri": "https://localhost:8080/"
        },
        "id": "OPVPwRfLHk_o",
        "outputId": "3bfb0bbc-9192-425c-8be2-a09a01efc66e"
      },
      "execution_count": null,
      "outputs": [
        {
          "output_type": "stream",
          "name": "stdout",
          "text": [
            "xin moi ban chon ten bai hat:con mua ngang qua\n",
            "con mua ngang qua\n",
            "[{'id': 'HHqbE_Z-tTI', 'thumbnails': ['https://i.ytimg.com/vi/HHqbE_Z-tTI/hqdefault.jpg?sqp=-oaymwEjCOADEI4CSFryq4qpAxUIARUAAAAAGAElAADIQj0AgKJDeAE=&rs=AOn4CLCB9YrY6phqI0mzf2a4z_utmf-Huw'], 'title': 'ConMuaNgangQua SonTungMTP 2782444', 'long_desc': None, 'channel': 'gatre duonglinh', 'duration': '3:51', 'views': '1,882,658 views', 'publish_time': '8 years ago', 'url_suffix': '/watch?v=HHqbE_Z-tTI'}, {'id': '7g2SSrRQzeQ', 'thumbnails': ['https://i.ytimg.com/vi/7g2SSrRQzeQ/hq720.jpg?sqp=-oaymwEjCOgCEMoBSFryq4qpAxUIARUAAAAAGAElAADIQj0AgKJDeAE=&rs=AOn4CLBGMYXYQ593ei9JIrsNq1iTezquBQ', 'https://i.ytimg.com/vi/7g2SSrRQzeQ/hq720.jpg?sqp=-oaymwEXCNAFEJQDSFryq4qpAwkIARUAAIhCGAE=&rs=AOn4CLBdf66tBM0PwniHZxAv4XMkjJ4ACQ'], 'title': 'CƠN MƯA NGANG QUA | SƠN TÙNG MTP ( Official MV )', 'long_desc': None, 'channel': 'Trần Văn Thanh Trúc', 'duration': '3:44', 'views': '75,384 views', 'publish_time': '4 months ago', 'url_suffix': '/watch?v=7g2SSrRQzeQ'}, {'id': 'q-1FuU37zvA', 'thumbnails': ['https://i.ytimg.com/vi/q-1FuU37zvA/hq720.jpg?sqp=-oaymwEjCOgCEMoBSFryq4qpAxUIARUAAAAAGAElAADIQj0AgKJDeAE=&rs=AOn4CLBIYp0FYBi5NrJ0r29s1S-JAos3IQ', 'https://i.ytimg.com/vi/q-1FuU37zvA/hq720.jpg?sqp=-oaymwEXCNAFEJQDSFryq4qpAwkIARUAAIhCGAE=&rs=AOn4CLCVJLRWpUwSzOcu4ISc8Ryhfs7vDw'], 'title': 'SƠN TÙNG M-TP | SKY DECADE | Cơn Mưa Xa Dần', 'long_desc': None, 'channel': 'Sơn Tùng M-TP Official', 'duration': '3:17', 'views': '4,592,902 views', 'publish_time': '1 month ago', 'url_suffix': '/watch?v=q-1FuU37zvA'}, {'id': 'RS-NsszhSOA', 'thumbnails': ['https://i.ytimg.com/vi/RS-NsszhSOA/hq720.jpg?sqp=-oaymwEjCOgCEMoBSFryq4qpAxUIARUAAAAAGAElAADIQj0AgKJDeAE=&rs=AOn4CLBCCdA2NkOUyPUB7WclYx82BwOLig', 'https://i.ytimg.com/vi/RS-NsszhSOA/hq720.jpg?sqp=-oaymwEXCNAFEJQDSFryq4qpAwkIARUAAIhCGAE=&rs=AOn4CLDjboPGz2x3DEIGNP9AsJAPSLPCPQ'], 'title': 'Cơn Mưa Ngang Qua (Lyrics) - Sơn Tùng MTP', 'long_desc': None, 'channel': 'Penguix', 'duration': '3:51', 'views': '43,553 views', 'publish_time': '1 year ago', 'url_suffix': '/watch?v=RS-NsszhSOA'}, {'id': 'DOyzdJk7_1w', 'thumbnails': ['https://i.ytimg.com/vi/DOyzdJk7_1w/hq720.jpg?sqp=-oaymwEjCOgCEMoBSFryq4qpAxUIARUAAAAAGAElAADIQj0AgKJDeAE=&rs=AOn4CLAsnsk09qP1hGetQzEd1jygiROzmg', 'https://i.ytimg.com/vi/DOyzdJk7_1w/hq720.jpg?sqp=-oaymwEXCNAFEJQDSFryq4qpAwkIARUAAIhCGAE=&rs=AOn4CLD3f04VIxLT81ufD5mkrcoc2iFEKA'], 'title': 'Cơn Mưa Ngang Qua', 'long_desc': None, 'channel': 'Sơn Tùng M-TP Official', 'duration': '3:55', 'views': '126,734 views', 'publish_time': 0, 'url_suffix': '/watch?v=DOyzdJk7_1w'}, {'id': '1jP1X8KxC9w', 'thumbnails': ['https://i.ytimg.com/vi/1jP1X8KxC9w/hq720.jpg?sqp=-oaymwEjCOgCEMoBSFryq4qpAxUIARUAAAAAGAElAADIQj0AgKJDeAE=&rs=AOn4CLAGc-UA03HwulNET2lUOvBKqNIwiA', 'https://i.ytimg.com/vi/1jP1X8KxC9w/hq720.jpg?sqp=-oaymwEXCNAFEJQDSFryq4qpAwkIARUAAIhCGAE=&rs=AOn4CLCkUNZDlqU4FFxAMZOQ6_fHzdUcPw'], 'title': 'Cơn Mưa Ngang Qua (All Part) | Sơn Tùng M-TP | ND Music', 'long_desc': None, 'channel': 'ND Music', 'duration': '11:05', 'views': '869,402 views', 'publish_time': '1 year ago', 'url_suffix': '/watch?v=1jP1X8KxC9w'}, {'id': 'vnXvYy_GIGI', 'thumbnails': ['https://i.ytimg.com/vi/vnXvYy_GIGI/hq720.jpg?sqp=-oaymwEjCOgCEMoBSFryq4qpAxUIARUAAAAAGAElAADIQj0AgKJDeAE=&rs=AOn4CLAWjyxKB1y22-HSZ4KX9fCD69x57Q', 'https://i.ytimg.com/vi/vnXvYy_GIGI/hq720.jpg?sqp=-oaymwEXCNAFEJQDSFryq4qpAwkIARUAAIhCGAE=&rs=AOn4CLBJH_aCkhsQZteKMZDvPhKbqpgshQ'], 'title': 'M-TP |  Tuyển tập các ca khúc Sơn Tùng | His Music Journey', 'long_desc': None, 'channel': 'Sơn Tùng M-TP Official', 'duration': '2:29:58', 'views': '13,187,076 views', 'publish_time': '6 years ago', 'url_suffix': '/watch?v=vnXvYy_GIGI'}, {'id': '4oRJGKkt33k', 'thumbnails': ['https://i.ytimg.com/vi/4oRJGKkt33k/hq720.jpg?sqp=-oaymwE9COgCEMoBSFryq4qpAy8IARUAAAAAGAElAADIQj0AgKJDeAHwAQH4AfQJgALQBYoCDAgAEAEYfyAzKCkwDw==&rs=AOn4CLA0oPh6rwDopr4LshKjs7Xe75plkA', 'https://i.ytimg.com/vi/4oRJGKkt33k/hq720.jpg?sqp=-oaymwExCNAFEJQDSFryq4qpAyMIARUAAIhCGAHwAQH4AfQJgALQBYoCDAgAEAEYfyAzKCkwDw==&rs=AOn4CLDKoeM1Dqlj78Zu3KCeQl81LWFCzw'], 'title': 'Cơn Mưa Ngang Qua (Zang Remix) - UMIE Cover | Sơn Tùng M-TP', 'long_desc': None, 'channel': 'ZANG', 'duration': '2:06', 'views': '10,212 views', 'publish_time': '6 months ago', 'url_suffix': '/watch?v=4oRJGKkt33k'}, {'id': '488ceQWoGGw', 'thumbnails': ['https://i.ytimg.com/vi/488ceQWoGGw/hq720.jpg?sqp=-oaymwEjCOgCEMoBSFryq4qpAxUIARUAAAAAGAElAADIQj0AgKJDeAE=&rs=AOn4CLDOe7JmIcW_QYHULWO7WW22WEYUgw', 'https://i.ytimg.com/vi/488ceQWoGGw/hq720.jpg?sqp=-oaymwEXCNAFEJQDSFryq4qpAwkIARUAAIhCGAE=&rs=AOn4CLDl0EXUNCaXYvIEoA_XKjUGn-IGKg'], 'title': 'Nắng Ấm Xa Dần - Sơn Tùng M-TP', 'long_desc': None, 'channel': 'Sơn Tùng M-TP Official', 'duration': '3:12', 'views': '15,801,955 views', 'publish_time': '6 years ago', 'url_suffix': '/watch?v=488ceQWoGGw'}, {'id': 'B65xRMdDhNI', 'thumbnails': ['https://i.ytimg.com/vi/B65xRMdDhNI/hqdefault.jpg?sqp=-oaymwEjCOADEI4CSFryq4qpAxUIARUAAAAAGAElAADIQj0AgKJDeAE=&rs=AOn4CLDh-yXOBLtu3qV3TYiQMbTjG5Q8AA'], 'title': 'Cơn Mưa Ngang Qua ( Remix 2022 ) | Sơn Tùng MTP x OPPO', 'long_desc': None, 'channel': 'Trần Văn Thanh Trúc', 'duration': '3:25', 'views': '161,430 views', 'publish_time': '4 months ago', 'url_suffix': '/watch?v=B65xRMdDhNI'}]\n",
            "/watch?v=HHqbE_Z-tTI\n",
            "http://youtube.com/watch?v=HHqbE_Z-tTI\n",
            "bai hat yeu cau da duoc mo\n"
          ]
        }
      ]
    },
    {
      "cell_type": "code",
      "source": [
        "pip install pyaudio"
      ],
      "metadata": {
        "id": "dJ4uBAXaLt_j"
      },
      "execution_count": null,
      "outputs": []
    },
    {
      "cell_type": "code",
      "source": [
        "pip install SpeechRecognition"
      ],
      "metadata": {
        "colab": {
          "base_uri": "https://localhost:8080/"
        },
        "id": "QMIzqL1HNoHG",
        "outputId": "83946e5e-9a05-4c0a-c499-4dfd67486bff"
      },
      "execution_count": null,
      "outputs": [
        {
          "output_type": "stream",
          "name": "stdout",
          "text": [
            "Looking in indexes: https://pypi.org/simple, https://us-python.pkg.dev/colab-wheels/public/simple/\n",
            "Collecting SpeechRecognition\n",
            "  Downloading SpeechRecognition-3.8.1-py2.py3-none-any.whl (32.8 MB)\n",
            "\u001b[K     |████████████████████████████████| 32.8 MB 1.4 MB/s \n",
            "\u001b[?25hInstalling collected packages: SpeechRecognition\n",
            "Successfully installed SpeechRecognition-3.8.1\n"
          ]
        }
      ]
    },
    {
      "cell_type": "code",
      "source": [
        "filename='a3.wav'\n",
        "import speech_recognition as sr\n",
        "r=sr.Recognizer()\n",
        "with sr.AudioFile(filename) as source:\n",
        "  audio_data = r.record(source,offset=0,duration=180)\n",
        "text= r.recognize_google(audio_data,language='vi_VI')\n",
        "print(text)"
      ],
      "metadata": {
        "colab": {
          "base_uri": "https://localhost:8080/"
        },
        "id": "jyZfNCiNUA8D",
        "outputId": "68823746-6ed1-42de-fa57-ea180317dab8"
      },
      "execution_count": null,
      "outputs": [
        {
          "output_type": "stream",
          "name": "stdout",
          "text": [
            "máy hút được sự đáng sợ nhất là lòng phút thoại chỉ cần mua Còn Trước tiên mình phải đứng trên vùng đất nước thua trận ở cầu thủ tất cả thủ tục làm sao có thể chuyển đổi câu nói của sau này ai mà biết chắc\n"
          ]
        }
      ]
    },
    {
      "cell_type": "code",
      "source": [
        "pip install playsound"
      ],
      "metadata": {
        "colab": {
          "base_uri": "https://localhost:8080/"
        },
        "id": "eDPwQ5NoVP5s",
        "outputId": "87ed8dfa-c62e-4acb-bbd8-1387162210aa"
      },
      "execution_count": null,
      "outputs": [
        {
          "output_type": "stream",
          "name": "stdout",
          "text": [
            "Looking in indexes: https://pypi.org/simple, https://us-python.pkg.dev/colab-wheels/public/simple/\n",
            "Collecting playsound\n",
            "  Downloading playsound-1.3.0.tar.gz (7.7 kB)\n",
            "Building wheels for collected packages: playsound\n",
            "  Building wheel for playsound (setup.py) ... \u001b[?25l\u001b[?25hdone\n",
            "  Created wheel for playsound: filename=playsound-1.3.0-py3-none-any.whl size=7038 sha256=27e016c06c49421e3fe752b4c2ced38bf2212eccf6a58309fcd77fecb8af39d0\n",
            "  Stored in directory: /root/.cache/pip/wheels/ba/f8/bb/ea57c0146b664dca3a0ada4199b0ecb5f9dfcb7b7e22b65ba2\n",
            "Successfully built playsound\n",
            "Installing collected packages: playsound\n",
            "Successfully installed playsound-1.3.0\n"
          ]
        }
      ]
    },
    {
      "cell_type": "code",
      "source": [
        "pip install gTTS"
      ],
      "metadata": {
        "colab": {
          "base_uri": "https://localhost:8080/"
        },
        "id": "qkEvf61bZyZE",
        "outputId": "2f99f9ab-7590-421f-f0e3-65edf937e53d"
      },
      "execution_count": null,
      "outputs": [
        {
          "output_type": "stream",
          "name": "stdout",
          "text": [
            "Looking in indexes: https://pypi.org/simple, https://us-python.pkg.dev/colab-wheels/public/simple/\n",
            "Requirement already satisfied: gTTS in /usr/local/lib/python3.7/dist-packages (2.3.0)\n",
            "Requirement already satisfied: click~=8.1.3 in /usr/local/lib/python3.7/dist-packages (from gTTS) (8.1.3)\n",
            "Requirement already satisfied: six~=1.16.0 in /usr/local/lib/python3.7/dist-packages (from gTTS) (1.16.0)\n",
            "Requirement already satisfied: requests~=2.28.0 in /usr/local/lib/python3.7/dist-packages (from gTTS) (2.28.1)\n",
            "Requirement already satisfied: importlib-metadata in /usr/local/lib/python3.7/dist-packages (from click~=8.1.3->gTTS) (4.13.0)\n",
            "Requirement already satisfied: idna<4,>=2.5 in /usr/local/lib/python3.7/dist-packages (from requests~=2.28.0->gTTS) (2.10)\n",
            "Requirement already satisfied: urllib3<1.27,>=1.21.1 in /usr/local/lib/python3.7/dist-packages (from requests~=2.28.0->gTTS) (1.24.3)\n",
            "Requirement already satisfied: certifi>=2017.4.17 in /usr/local/lib/python3.7/dist-packages (from requests~=2.28.0->gTTS) (2022.9.24)\n",
            "Requirement already satisfied: charset-normalizer<3,>=2 in /usr/local/lib/python3.7/dist-packages (from requests~=2.28.0->gTTS) (2.1.1)\n",
            "Requirement already satisfied: typing-extensions>=3.6.4 in /usr/local/lib/python3.7/dist-packages (from importlib-metadata->click~=8.1.3->gTTS) (4.1.1)\n",
            "Requirement already satisfied: zipp>=0.5 in /usr/local/lib/python3.7/dist-packages (from importlib-metadata->click~=8.1.3->gTTS) (3.10.0)\n"
          ]
        }
      ]
    },
    {
      "cell_type": "code",
      "source": [
        "from playsound import playsound\n",
        "import speech_recognition as sr\n",
        "from gtts import gTTS\n",
        "import os\n",
        "A='hôm nay là thứ 3 ngày mai là thứ 4 ngày mốt là thứ 5 hôm nay là 22 ngày mai là 23 ngày mốt là 24'\n",
        "speak=gTTS(text=A,lang='vi',slow=False)\n",
        "speak.save('test.mp3')\n",
        "#playsound('test.mp3')\n",
        "#os.remove('test.mp3')\n",
        "print(text)"
      ],
      "metadata": {
        "colab": {
          "base_uri": "https://localhost:8080/"
        },
        "id": "UWL_Q5l4Z65T",
        "outputId": "f6a4a6c8-f4cd-4b6f-c79f-9dd310dbbefd"
      },
      "execution_count": null,
      "outputs": [
        {
          "output_type": "stream",
          "name": "stdout",
          "text": [
            "máy hút được sự đáng sợ nhất là lòng phút thoại chỉ cần mua Còn Trước tiên mình phải đứng trên vùng đất nước thua trận ở cầu thủ tất cả thủ tục làm sao có thể chuyển đổi câu nói của sau này ai mà biết chắc\n"
          ]
        }
      ]
    },
    {
      "cell_type": "code",
      "source": [
        "pip install googletrans==3.1.0a0"
      ],
      "metadata": {
        "colab": {
          "base_uri": "https://localhost:8080/"
        },
        "id": "fZOUswG4b0Md",
        "outputId": "0bba797d-f7ee-4108-d1db-d0b2574003a7"
      },
      "execution_count": null,
      "outputs": [
        {
          "output_type": "stream",
          "name": "stdout",
          "text": [
            "Looking in indexes: https://pypi.org/simple, https://us-python.pkg.dev/colab-wheels/public/simple/\n",
            "Collecting googletrans==3.1.0a0\n",
            "  Downloading googletrans-3.1.0a0.tar.gz (19 kB)\n",
            "Collecting httpx==0.13.3\n",
            "  Downloading httpx-0.13.3-py3-none-any.whl (55 kB)\n",
            "\u001b[K     |████████████████████████████████| 55 kB 2.4 MB/s \n",
            "\u001b[?25hCollecting sniffio\n",
            "  Downloading sniffio-1.3.0-py3-none-any.whl (10 kB)\n",
            "Collecting rfc3986<2,>=1.3\n",
            "  Downloading rfc3986-1.5.0-py2.py3-none-any.whl (31 kB)\n",
            "Requirement already satisfied: certifi in /usr/local/lib/python3.7/dist-packages (from httpx==0.13.3->googletrans==3.1.0a0) (2022.9.24)\n",
            "Collecting httpcore==0.9.*\n",
            "  Downloading httpcore-0.9.1-py3-none-any.whl (42 kB)\n",
            "\u001b[K     |████████████████████████████████| 42 kB 1.3 MB/s \n",
            "\u001b[?25hCollecting hstspreload\n",
            "  Downloading hstspreload-2022.11.1-py3-none-any.whl (1.4 MB)\n",
            "\u001b[K     |████████████████████████████████| 1.4 MB 14.8 MB/s \n",
            "\u001b[?25hRequirement already satisfied: idna==2.* in /usr/local/lib/python3.7/dist-packages (from httpx==0.13.3->googletrans==3.1.0a0) (2.10)\n",
            "Requirement already satisfied: chardet==3.* in /usr/local/lib/python3.7/dist-packages (from httpx==0.13.3->googletrans==3.1.0a0) (3.0.4)\n",
            "Collecting h2==3.*\n",
            "  Downloading h2-3.2.0-py2.py3-none-any.whl (65 kB)\n",
            "\u001b[K     |████████████████████████████████| 65 kB 3.4 MB/s \n",
            "\u001b[?25hCollecting h11<0.10,>=0.8\n",
            "  Downloading h11-0.9.0-py2.py3-none-any.whl (53 kB)\n",
            "\u001b[K     |████████████████████████████████| 53 kB 1.8 MB/s \n",
            "\u001b[?25hCollecting hyperframe<6,>=5.2.0\n",
            "  Downloading hyperframe-5.2.0-py2.py3-none-any.whl (12 kB)\n",
            "Collecting hpack<4,>=3.0\n",
            "  Downloading hpack-3.0.0-py2.py3-none-any.whl (38 kB)\n",
            "Building wheels for collected packages: googletrans\n",
            "  Building wheel for googletrans (setup.py) ... \u001b[?25l\u001b[?25hdone\n",
            "  Created wheel for googletrans: filename=googletrans-3.1.0a0-py3-none-any.whl size=16368 sha256=dcf5046030e7097b49f3401e063f969c6f3b588effa51e9890d0db04e9f8bc3e\n",
            "  Stored in directory: /root/.cache/pip/wheels/0c/be/fe/93a6a40ffe386e16089e44dad9018ebab9dc4cb9eb7eab65ae\n",
            "Successfully built googletrans\n",
            "Installing collected packages: hyperframe, hpack, sniffio, h2, h11, rfc3986, httpcore, hstspreload, httpx, googletrans\n",
            "Successfully installed googletrans-3.1.0a0 h11-0.9.0 h2-3.2.0 hpack-3.0.0 hstspreload-2022.11.1 httpcore-0.9.1 httpx-0.13.3 hyperframe-5.2.0 rfc3986-1.5.0 sniffio-1.3.0\n"
          ]
        }
      ]
    },
    {
      "cell_type": "code",
      "source": [
        "from googletrans import Translator\n",
        "translator=Translator()\n",
        "translation=translator.translate('HÀ NỘI Ông Cao Minh Quang vắng mặt trong ngày xét xử thứ hai do sức khỏe kém, được VKS đề nghị 30-36 tháng tù nhưng cho hưởng treo.',src='vi',dest='en')\n",
        "#src='vi\n",
        "print(translation.text)"
      ],
      "metadata": {
        "colab": {
          "base_uri": "https://localhost:8080/"
        },
        "id": "FXKVd4V8fYSv",
        "outputId": "a8e48e0b-8824-403f-8006-3ebded0c2a02"
      },
      "execution_count": null,
      "outputs": [
        {
          "output_type": "stream",
          "name": "stdout",
          "text": [
            "HANOI Mr. Cao Minh Quang was absent on the second day of trial due to poor health, and was recommended by the Procuratorate for 30-36 months in prison but suspended.\n"
          ]
        }
      ]
    },
    {
      "cell_type": "code",
      "source": [
        "from googletrans import Translator\n",
        "filename='a3.wav'\n",
        "import speech_recognition as sr\n",
        "from playsound import playsound\n",
        "import speech_recognition as sr\n",
        "from gtts import gTTS\n",
        "import os\n",
        "r=sr.Recognizer()\n",
        "with sr.AudioFile(filename) as source:\n",
        "  audio_data = r.record(source,offset=0,duration=180)\n",
        "text= r.recognize_google(audio_data,language='vi_VI')\n",
        "translator=Translator()\n",
        "translation=translator.translate(text,src='vi',dest='en')\n",
        "speak=gTTS(text,lang='en',slow=False)\n",
        "speak.save('test.mp3')\n",
        "#playsound('test.mp3')\n",
        "#os.remove('test.mp3')\n",
        "print(translation.text)"
      ],
      "metadata": {
        "colab": {
          "base_uri": "https://localhost:8080/"
        },
        "id": "BKd-8sXGgWAA",
        "outputId": "812e0948-aa4e-4f63-dfbf-baf8248c22be"
      },
      "execution_count": null,
      "outputs": [
        {
          "output_type": "stream",
          "name": "stdout",
          "text": [
            "The machine that sucks the most is the heart of the conversation, just buy it. First of all, I have to stand on the lost country of the player, all the procedures how to convert the sentence of later who knows for sure.\n"
          ]
        }
      ]
    },
    {
      "cell_type": "code",
      "source": [
        "detection=translator.detect('Aujourdhui est un beau jour xịn expensive')\n",
        "print('Language Code:',detection.lang)\n",
        "print('Confidence',detection.confidence)"
      ],
      "metadata": {
        "colab": {
          "base_uri": "https://localhost:8080/"
        },
        "id": "MsxgvzJwhTk4",
        "outputId": "4bc60c52-76fd-4848-ad3e-6c2cbec8773c"
      },
      "execution_count": null,
      "outputs": [
        {
          "output_type": "stream",
          "name": "stdout",
          "text": [
            "Language Code: fr\n",
            "Confidence 0.9700136\n"
          ]
        }
      ]
    }
  ]
}